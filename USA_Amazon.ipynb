{
 "cells": [
  {
   "cell_type": "code",
   "execution_count": 1,
   "id": "2bbd4d91",
   "metadata": {},
   "outputs": [
    {
     "name": "stdout",
     "output_type": "stream",
     "text": [
      "Requirement already satisfied: beautifulsoup4 in /Users/em/opt/anaconda3/lib/python3.8/site-packages (4.9.3)\r\n",
      "Requirement already satisfied: soupsieve>1.2 in /Users/em/opt/anaconda3/lib/python3.8/site-packages (from beautifulsoup4) (2.2.1)\r\n"
     ]
    }
   ],
   "source": [
    "!pip3 install beautifulsoup4"
   ]
  },
  {
   "cell_type": "code",
   "execution_count": 2,
   "id": "c01d24bb",
   "metadata": {},
   "outputs": [],
   "source": [
    "import pandas as pd\n",
    "import numpy as np\n",
    "import matplotlib.pyplot as plt\n",
    "import seaborn as sns\n",
    "%matplotlib inline\n",
    "import re\n",
    "import time\n",
    "from datetime import datetime\n",
    "import matplotlib.dates as mdates\n",
    "import matplotlib.ticker as ticker\n",
    "from urllib.request import urlopen\n",
    "from bs4 import BeautifulSoup\n",
    "import requests"
   ]
  },
  {
   "cell_type": "code",
   "execution_count": 3,
   "id": "c0d3d346",
   "metadata": {},
   "outputs": [],
   "source": [
    "no_pages = 50\n",
    "\n",
    "def get_data(pageNo):  \n",
    "    headers = {\"User-Agent\":\"Mozilla/5.0 (Windows NT 10.0; Win64; x64; rv:66.0) Gecko/20100101 Firefox/66.0\", \"Accept-Encoding\":\"gzip, deflate\", \"Accept\":\"text/html,application/xhtml+xml,application/xml;q=0.9,*/*;q=0.8\", \"DNT\":\"1\",\"Connection\":\"close\", \"Upgrade-Insecure-Requests\":\"1\"}\n",
    "\n",
    "    r = requests.get('https://www.amazon.com/MorwenVeo-Mens-Casual-Hooded-T-Shirts/product-reviews/B08627YMFY/ref=cm_cr_getr_d_paging_btm_next_5?ie=UTF8&reviewerType=all_reviews&pageNumber='+str(pageNo), headers=headers)#, proxies=proxies)\n",
    "    content = r.content\n",
    "    soup = BeautifulSoup(content)\n",
    "    #print(soup)\n",
    "\n",
    "    alls = []\n",
    "    for d in soup.findAll('div', attrs={'data-hook':'review'}):\n",
    "        #print(d)\n",
    "        rating = d.find('i', attrs={'data-hook':'review-star-rating'})\n",
    "\n",
    "        title = d.find('a', attrs={'data-hook':'review-title'})\n",
    "        kind= d.find('a', attrs={'data-hook':'format-strip'})\n",
    "        date = d.find('span', attrs={'data-hook':'review-date'})\n",
    "        body = d.find('span', attrs={'data-hook':'review-body'})\n",
    "  \n",
    "\n",
    "        all1=[]\n",
    "\n",
    "        if rating is not None:\n",
    "            #print(n[0]['alt'])\n",
    "            all1.append(rating.text)\n",
    "            \n",
    "        else:\n",
    "            all1.append(\"No Rating\")\n",
    "\n",
    "\n",
    "        if title is not None:\n",
    "            #print(author.text)\n",
    "            all1.append(title.text)\n",
    "        \n",
    "        else:\n",
    "            all1.append(\"No Title\")\n",
    "\n",
    "\n",
    "        if date is not None:\n",
    "            all1.append(date.text)\n",
    "            \n",
    "        \n",
    "        else:\n",
    "            all1.append(\"No Date\")\n",
    "\n",
    "        if kind is not None:\n",
    "            all1.append(kind.text)\n",
    "        \n",
    "        else:\n",
    "            all1.append(\"No Color:No Size\")\n",
    "\n",
    "        if body is not None:\n",
    "            #print(price.text)\n",
    "            all1.append(body.text)\n",
    "        else:\n",
    "            all1.append(\"No Text\")\n",
    "        \n",
    "        #print(all1)\n",
    "     \n",
    "        alls.append(all1)    \n",
    "    return alls"
   ]
  },
  {
   "cell_type": "code",
   "execution_count": 4,
   "id": "f444aba2",
   "metadata": {},
   "outputs": [],
   "source": [
    "results = []\n",
    "for i in range(1, no_pages+1):\n",
    "    results.append(get_data(i))\n",
    "flatten = lambda l: [item for sublist in l for item in sublist]\n",
    "df = pd.DataFrame(flatten(results),columns=['Rating','Review_Title','Date','Product', 'Review'])\n",
    "df.to_csv('amazon_review.csv', index=False, encoding='utf-8')"
   ]
  },
  {
   "cell_type": "code",
   "execution_count": 5,
   "id": "8cdacfcc",
   "metadata": {},
   "outputs": [],
   "source": [
    "df = pd.read_csv(\"amazon_review.csv\")"
   ]
  },
  {
   "cell_type": "code",
   "execution_count": 6,
   "id": "39d118e1",
   "metadata": {},
   "outputs": [
    {
     "data": {
      "text/plain": [
       "(243, 5)"
      ]
     },
     "execution_count": 6,
     "metadata": {},
     "output_type": "execute_result"
    }
   ],
   "source": [
    "df.shape"
   ]
  },
  {
   "cell_type": "code",
   "execution_count": 7,
   "id": "ce249ecf",
   "metadata": {},
   "outputs": [
    {
     "data": {
      "text/html": [
       "<div>\n",
       "<style scoped>\n",
       "    .dataframe tbody tr th:only-of-type {\n",
       "        vertical-align: middle;\n",
       "    }\n",
       "\n",
       "    .dataframe tbody tr th {\n",
       "        vertical-align: top;\n",
       "    }\n",
       "\n",
       "    .dataframe thead th {\n",
       "        text-align: right;\n",
       "    }\n",
       "</style>\n",
       "<table border=\"1\" class=\"dataframe\">\n",
       "  <thead>\n",
       "    <tr style=\"text-align: right;\">\n",
       "      <th></th>\n",
       "      <th>Rating</th>\n",
       "      <th>Review_Title</th>\n",
       "      <th>Date</th>\n",
       "      <th>Product</th>\n",
       "      <th>Review</th>\n",
       "    </tr>\n",
       "  </thead>\n",
       "  <tbody>\n",
       "    <tr>\n",
       "      <th>0</th>\n",
       "      <td>3.0 out of 5 stars</td>\n",
       "      <td>\\nRUNS SMALL\\n</td>\n",
       "      <td>Reviewed in the United States on March 30, 2021</td>\n",
       "      <td>Color: BlackSize: 3X-Large</td>\n",
       "      <td>\\n\\n  i purchased a 3xL but it fit more like a...</td>\n",
       "    </tr>\n",
       "    <tr>\n",
       "      <th>1</th>\n",
       "      <td>2.0 out of 5 stars</td>\n",
       "      <td>\\nI like the style in general, but.....\\n</td>\n",
       "      <td>Reviewed in the United States on August 7, 2021</td>\n",
       "      <td>No Color:No Size</td>\n",
       "      <td>\\n\\n  I ordered the black short sleeve, large,...</td>\n",
       "    </tr>\n",
       "    <tr>\n",
       "      <th>2</th>\n",
       "      <td>1.0 out of 5 stars</td>\n",
       "      <td>\\nLow Quality\\n</td>\n",
       "      <td>Reviewed in the United States on March 31, 2021</td>\n",
       "      <td>Color: NavySize: 3X-Large</td>\n",
       "      <td>\\n\\n  This was a cheap product with very mater...</td>\n",
       "    </tr>\n",
       "    <tr>\n",
       "      <th>3</th>\n",
       "      <td>1.0 out of 5 stars</td>\n",
       "      <td>\\nPoor sizing\\n</td>\n",
       "      <td>Reviewed in the United States on July 9, 2021</td>\n",
       "      <td>Color: Army Green-3Size: 3X-Large</td>\n",
       "      <td>\\n\\n  Chinese seem to not have any standards f...</td>\n",
       "    </tr>\n",
       "    <tr>\n",
       "      <th>4</th>\n",
       "      <td>1.0 out of 5 stars</td>\n",
       "      <td>\\nToo sizes smaller than advertised.\\n</td>\n",
       "      <td>Reviewed in the United States on May 5, 2021</td>\n",
       "      <td>Color: Army GreenSize: 3X-Large</td>\n",
       "      <td>\\n\\n  The light material is outstanding, but t...</td>\n",
       "    </tr>\n",
       "    <tr>\n",
       "      <th>5</th>\n",
       "      <td>3.0 out of 5 stars</td>\n",
       "      <td>\\nRuns small. Otherwise is great too\\n</td>\n",
       "      <td>Reviewed in the United States on June 19, 2021</td>\n",
       "      <td>Color: Wine RedSize: X-Large</td>\n",
       "      <td>\\n\\n\\n  Your browser does not support HTML5 vi...</td>\n",
       "    </tr>\n",
       "    <tr>\n",
       "      <th>6</th>\n",
       "      <td>4.0 out of 5 stars</td>\n",
       "      <td>\\nRuns small\\n</td>\n",
       "      <td>Reviewed in the United States on July 6, 2021</td>\n",
       "      <td>Color: Dark GraySize: 3X-Large</td>\n",
       "      <td>\\n\\n  I’m 6’3” 300 lbs muscle/ athletic build ...</td>\n",
       "    </tr>\n",
       "    <tr>\n",
       "      <th>7</th>\n",
       "      <td>2.0 out of 5 stars</td>\n",
       "      <td>\\nthis shirt is see through - sheer\\n</td>\n",
       "      <td>Reviewed in the United States on August 9, 2021</td>\n",
       "      <td>Color: Khaki-1Size: 3X-Large</td>\n",
       "      <td>\\n\\n  if you aren't ripped, pass on this shirt...</td>\n",
       "    </tr>\n",
       "    <tr>\n",
       "      <th>8</th>\n",
       "      <td>3.0 out of 5 stars</td>\n",
       "      <td>\\nIt's a bit small\\n</td>\n",
       "      <td>Reviewed in the United States on August 2, 2021</td>\n",
       "      <td>Color: Dark GraySize: Large</td>\n",
       "      <td>\\n\\n  So I'm 6'2\" and I'm 180 lbs and this shi...</td>\n",
       "    </tr>\n",
       "    <tr>\n",
       "      <th>9</th>\n",
       "      <td>4.0 out of 5 stars</td>\n",
       "      <td>\\nSo close! But I really like it.\\n</td>\n",
       "      <td>Reviewed in the United States on May 2, 2021</td>\n",
       "      <td>Color: Black-1Size: Large</td>\n",
       "      <td>\\n\\n  Love the fit and look but should have us...</td>\n",
       "    </tr>\n",
       "  </tbody>\n",
       "</table>\n",
       "</div>"
      ],
      "text/plain": [
       "               Rating                               Review_Title  \\\n",
       "0  3.0 out of 5 stars                             \\nRUNS SMALL\\n   \n",
       "1  2.0 out of 5 stars  \\nI like the style in general, but.....\\n   \n",
       "2  1.0 out of 5 stars                            \\nLow Quality\\n   \n",
       "3  1.0 out of 5 stars                            \\nPoor sizing\\n   \n",
       "4  1.0 out of 5 stars     \\nToo sizes smaller than advertised.\\n   \n",
       "5  3.0 out of 5 stars     \\nRuns small. Otherwise is great too\\n   \n",
       "6  4.0 out of 5 stars                             \\nRuns small\\n   \n",
       "7  2.0 out of 5 stars      \\nthis shirt is see through - sheer\\n   \n",
       "8  3.0 out of 5 stars                       \\nIt's a bit small\\n   \n",
       "9  4.0 out of 5 stars        \\nSo close! But I really like it.\\n   \n",
       "\n",
       "                                              Date  \\\n",
       "0  Reviewed in the United States on March 30, 2021   \n",
       "1  Reviewed in the United States on August 7, 2021   \n",
       "2  Reviewed in the United States on March 31, 2021   \n",
       "3    Reviewed in the United States on July 9, 2021   \n",
       "4     Reviewed in the United States on May 5, 2021   \n",
       "5   Reviewed in the United States on June 19, 2021   \n",
       "6    Reviewed in the United States on July 6, 2021   \n",
       "7  Reviewed in the United States on August 9, 2021   \n",
       "8  Reviewed in the United States on August 2, 2021   \n",
       "9     Reviewed in the United States on May 2, 2021   \n",
       "\n",
       "                             Product  \\\n",
       "0         Color: BlackSize: 3X-Large   \n",
       "1                   No Color:No Size   \n",
       "2          Color: NavySize: 3X-Large   \n",
       "3  Color: Army Green-3Size: 3X-Large   \n",
       "4    Color: Army GreenSize: 3X-Large   \n",
       "5       Color: Wine RedSize: X-Large   \n",
       "6     Color: Dark GraySize: 3X-Large   \n",
       "7       Color: Khaki-1Size: 3X-Large   \n",
       "8        Color: Dark GraySize: Large   \n",
       "9          Color: Black-1Size: Large   \n",
       "\n",
       "                                              Review  \n",
       "0  \\n\\n  i purchased a 3xL but it fit more like a...  \n",
       "1  \\n\\n  I ordered the black short sleeve, large,...  \n",
       "2  \\n\\n  This was a cheap product with very mater...  \n",
       "3  \\n\\n  Chinese seem to not have any standards f...  \n",
       "4  \\n\\n  The light material is outstanding, but t...  \n",
       "5  \\n\\n\\n  Your browser does not support HTML5 vi...  \n",
       "6  \\n\\n  I’m 6’3” 300 lbs muscle/ athletic build ...  \n",
       "7  \\n\\n  if you aren't ripped, pass on this shirt...  \n",
       "8  \\n\\n  So I'm 6'2\" and I'm 180 lbs and this shi...  \n",
       "9  \\n\\n  Love the fit and look but should have us...  "
      ]
     },
     "execution_count": 7,
     "metadata": {},
     "output_type": "execute_result"
    }
   ],
   "source": [
    "df.head(10)"
   ]
  },
  {
   "cell_type": "code",
   "execution_count": 8,
   "id": "beff4055",
   "metadata": {},
   "outputs": [
    {
     "name": "stderr",
     "output_type": "stream",
     "text": [
      "<ipython-input-8-06568aef27ae>:1: FutureWarning: The default value of regex will change from True to False in a future version.\n",
      "  df[\"Rating\"] = df[\"Rating\"].str.replace('.0 out of 5 stars', '')\n"
     ]
    }
   ],
   "source": [
    "df[\"Rating\"] = df[\"Rating\"].str.replace('.0 out of 5 stars', '')"
   ]
  },
  {
   "cell_type": "code",
   "execution_count": 9,
   "id": "9d260c5c",
   "metadata": {},
   "outputs": [
    {
     "data": {
      "text/html": [
       "<div>\n",
       "<style scoped>\n",
       "    .dataframe tbody tr th:only-of-type {\n",
       "        vertical-align: middle;\n",
       "    }\n",
       "\n",
       "    .dataframe tbody tr th {\n",
       "        vertical-align: top;\n",
       "    }\n",
       "\n",
       "    .dataframe thead th {\n",
       "        text-align: right;\n",
       "    }\n",
       "</style>\n",
       "<table border=\"1\" class=\"dataframe\">\n",
       "  <thead>\n",
       "    <tr style=\"text-align: right;\">\n",
       "      <th></th>\n",
       "      <th>Rating</th>\n",
       "      <th>Review_Title</th>\n",
       "      <th>Date</th>\n",
       "      <th>Product</th>\n",
       "      <th>Review</th>\n",
       "    </tr>\n",
       "  </thead>\n",
       "  <tbody>\n",
       "    <tr>\n",
       "      <th>0</th>\n",
       "      <td>3</td>\n",
       "      <td>\\nRUNS SMALL\\n</td>\n",
       "      <td>Reviewed in the United States on March 30, 2021</td>\n",
       "      <td>Color: BlackSize: 3X-Large</td>\n",
       "      <td>\\n\\n  i purchased a 3xL but it fit more like a...</td>\n",
       "    </tr>\n",
       "    <tr>\n",
       "      <th>1</th>\n",
       "      <td>2</td>\n",
       "      <td>\\nI like the style in general, but.....\\n</td>\n",
       "      <td>Reviewed in the United States on August 7, 2021</td>\n",
       "      <td>No Color:No Size</td>\n",
       "      <td>\\n\\n  I ordered the black short sleeve, large,...</td>\n",
       "    </tr>\n",
       "    <tr>\n",
       "      <th>2</th>\n",
       "      <td>1</td>\n",
       "      <td>\\nLow Quality\\n</td>\n",
       "      <td>Reviewed in the United States on March 31, 2021</td>\n",
       "      <td>Color: NavySize: 3X-Large</td>\n",
       "      <td>\\n\\n  This was a cheap product with very mater...</td>\n",
       "    </tr>\n",
       "    <tr>\n",
       "      <th>3</th>\n",
       "      <td>1</td>\n",
       "      <td>\\nPoor sizing\\n</td>\n",
       "      <td>Reviewed in the United States on July 9, 2021</td>\n",
       "      <td>Color: Army Green-3Size: 3X-Large</td>\n",
       "      <td>\\n\\n  Chinese seem to not have any standards f...</td>\n",
       "    </tr>\n",
       "    <tr>\n",
       "      <th>4</th>\n",
       "      <td>1</td>\n",
       "      <td>\\nToo sizes smaller than advertised.\\n</td>\n",
       "      <td>Reviewed in the United States on May 5, 2021</td>\n",
       "      <td>Color: Army GreenSize: 3X-Large</td>\n",
       "      <td>\\n\\n  The light material is outstanding, but t...</td>\n",
       "    </tr>\n",
       "    <tr>\n",
       "      <th>5</th>\n",
       "      <td>3</td>\n",
       "      <td>\\nRuns small. Otherwise is great too\\n</td>\n",
       "      <td>Reviewed in the United States on June 19, 2021</td>\n",
       "      <td>Color: Wine RedSize: X-Large</td>\n",
       "      <td>\\n\\n\\n  Your browser does not support HTML5 vi...</td>\n",
       "    </tr>\n",
       "    <tr>\n",
       "      <th>6</th>\n",
       "      <td>4</td>\n",
       "      <td>\\nRuns small\\n</td>\n",
       "      <td>Reviewed in the United States on July 6, 2021</td>\n",
       "      <td>Color: Dark GraySize: 3X-Large</td>\n",
       "      <td>\\n\\n  I’m 6’3” 300 lbs muscle/ athletic build ...</td>\n",
       "    </tr>\n",
       "    <tr>\n",
       "      <th>7</th>\n",
       "      <td>2</td>\n",
       "      <td>\\nthis shirt is see through - sheer\\n</td>\n",
       "      <td>Reviewed in the United States on August 9, 2021</td>\n",
       "      <td>Color: Khaki-1Size: 3X-Large</td>\n",
       "      <td>\\n\\n  if you aren't ripped, pass on this shirt...</td>\n",
       "    </tr>\n",
       "    <tr>\n",
       "      <th>8</th>\n",
       "      <td>3</td>\n",
       "      <td>\\nIt's a bit small\\n</td>\n",
       "      <td>Reviewed in the United States on August 2, 2021</td>\n",
       "      <td>Color: Dark GraySize: Large</td>\n",
       "      <td>\\n\\n  So I'm 6'2\" and I'm 180 lbs and this shi...</td>\n",
       "    </tr>\n",
       "    <tr>\n",
       "      <th>9</th>\n",
       "      <td>4</td>\n",
       "      <td>\\nSo close! But I really like it.\\n</td>\n",
       "      <td>Reviewed in the United States on May 2, 2021</td>\n",
       "      <td>Color: Black-1Size: Large</td>\n",
       "      <td>\\n\\n  Love the fit and look but should have us...</td>\n",
       "    </tr>\n",
       "  </tbody>\n",
       "</table>\n",
       "</div>"
      ],
      "text/plain": [
       "  Rating                               Review_Title  \\\n",
       "0      3                             \\nRUNS SMALL\\n   \n",
       "1      2  \\nI like the style in general, but.....\\n   \n",
       "2      1                            \\nLow Quality\\n   \n",
       "3      1                            \\nPoor sizing\\n   \n",
       "4      1     \\nToo sizes smaller than advertised.\\n   \n",
       "5      3     \\nRuns small. Otherwise is great too\\n   \n",
       "6      4                             \\nRuns small\\n   \n",
       "7      2      \\nthis shirt is see through - sheer\\n   \n",
       "8      3                       \\nIt's a bit small\\n   \n",
       "9      4        \\nSo close! But I really like it.\\n   \n",
       "\n",
       "                                              Date  \\\n",
       "0  Reviewed in the United States on March 30, 2021   \n",
       "1  Reviewed in the United States on August 7, 2021   \n",
       "2  Reviewed in the United States on March 31, 2021   \n",
       "3    Reviewed in the United States on July 9, 2021   \n",
       "4     Reviewed in the United States on May 5, 2021   \n",
       "5   Reviewed in the United States on June 19, 2021   \n",
       "6    Reviewed in the United States on July 6, 2021   \n",
       "7  Reviewed in the United States on August 9, 2021   \n",
       "8  Reviewed in the United States on August 2, 2021   \n",
       "9     Reviewed in the United States on May 2, 2021   \n",
       "\n",
       "                             Product  \\\n",
       "0         Color: BlackSize: 3X-Large   \n",
       "1                   No Color:No Size   \n",
       "2          Color: NavySize: 3X-Large   \n",
       "3  Color: Army Green-3Size: 3X-Large   \n",
       "4    Color: Army GreenSize: 3X-Large   \n",
       "5       Color: Wine RedSize: X-Large   \n",
       "6     Color: Dark GraySize: 3X-Large   \n",
       "7       Color: Khaki-1Size: 3X-Large   \n",
       "8        Color: Dark GraySize: Large   \n",
       "9          Color: Black-1Size: Large   \n",
       "\n",
       "                                              Review  \n",
       "0  \\n\\n  i purchased a 3xL but it fit more like a...  \n",
       "1  \\n\\n  I ordered the black short sleeve, large,...  \n",
       "2  \\n\\n  This was a cheap product with very mater...  \n",
       "3  \\n\\n  Chinese seem to not have any standards f...  \n",
       "4  \\n\\n  The light material is outstanding, but t...  \n",
       "5  \\n\\n\\n  Your browser does not support HTML5 vi...  \n",
       "6  \\n\\n  I’m 6’3” 300 lbs muscle/ athletic build ...  \n",
       "7  \\n\\n  if you aren't ripped, pass on this shirt...  \n",
       "8  \\n\\n  So I'm 6'2\" and I'm 180 lbs and this shi...  \n",
       "9  \\n\\n  Love the fit and look but should have us...  "
      ]
     },
     "execution_count": 9,
     "metadata": {},
     "output_type": "execute_result"
    }
   ],
   "source": [
    "df.head(10)"
   ]
  },
  {
   "cell_type": "code",
   "execution_count": 10,
   "id": "e95defe8",
   "metadata": {},
   "outputs": [],
   "source": [
    "df[\"Review_Title\"] = df[\"Review_Title\"].str.replace('\\n', '')"
   ]
  },
  {
   "cell_type": "code",
   "execution_count": 11,
   "id": "afc1e3b9",
   "metadata": {},
   "outputs": [],
   "source": [
    "df[\"Date\"] = df[\"Date\"].str.replace('Reviewed in the United States on ', '')"
   ]
  },
  {
   "cell_type": "code",
   "execution_count": 12,
   "id": "9284eade",
   "metadata": {},
   "outputs": [],
   "source": [
    "df[\"Review\"] = df[\"Review\"].str.replace('\\n\\n', '')"
   ]
  },
  {
   "cell_type": "code",
   "execution_count": 13,
   "id": "0d788f34",
   "metadata": {},
   "outputs": [],
   "source": [
    "df['Day_Month'] = df['Date'].apply(lambda x: x.split(',')[0])"
   ]
  },
  {
   "cell_type": "code",
   "execution_count": 14,
   "id": "9687b7c7",
   "metadata": {},
   "outputs": [],
   "source": [
    "df['Month'] = df['Day_Month'].apply(lambda x: x.split(' ')[0])"
   ]
  },
  {
   "cell_type": "code",
   "execution_count": 15,
   "id": "2634d62d",
   "metadata": {},
   "outputs": [],
   "source": [
    "df['Day'] = df['Day_Month'].apply(lambda x: x.split(' ')[1])"
   ]
  },
  {
   "cell_type": "code",
   "execution_count": 16,
   "id": "c28c1519",
   "metadata": {},
   "outputs": [],
   "source": [
    "df['Year'] = df['Date'].apply(lambda x: x.split(',')[1])"
   ]
  },
  {
   "cell_type": "code",
   "execution_count": 17,
   "id": "d94d7775",
   "metadata": {},
   "outputs": [],
   "source": [
    "df.drop(['Date', 'Day_Month'], axis='columns', inplace=True)"
   ]
  },
  {
   "cell_type": "code",
   "execution_count": 18,
   "id": "2d2696b7",
   "metadata": {},
   "outputs": [],
   "source": [
    "df['Rating'] = pd.to_numeric(df['Rating'], errors='coerce')"
   ]
  },
  {
   "cell_type": "code",
   "execution_count": 19,
   "id": "d312998a",
   "metadata": {},
   "outputs": [
    {
     "data": {
      "text/html": [
       "<div>\n",
       "<style scoped>\n",
       "    .dataframe tbody tr th:only-of-type {\n",
       "        vertical-align: middle;\n",
       "    }\n",
       "\n",
       "    .dataframe tbody tr th {\n",
       "        vertical-align: top;\n",
       "    }\n",
       "\n",
       "    .dataframe thead th {\n",
       "        text-align: right;\n",
       "    }\n",
       "</style>\n",
       "<table border=\"1\" class=\"dataframe\">\n",
       "  <thead>\n",
       "    <tr style=\"text-align: right;\">\n",
       "      <th></th>\n",
       "      <th>Rating</th>\n",
       "      <th>Review_Title</th>\n",
       "      <th>Product</th>\n",
       "      <th>Review</th>\n",
       "      <th>Month</th>\n",
       "      <th>Day</th>\n",
       "      <th>Year</th>\n",
       "    </tr>\n",
       "  </thead>\n",
       "  <tbody>\n",
       "    <tr>\n",
       "      <th>0</th>\n",
       "      <td>3.0</td>\n",
       "      <td>RUNS SMALL</td>\n",
       "      <td>Color: BlackSize: 3X-Large</td>\n",
       "      <td>i purchased a 3xL but it fit more like a 2xL.</td>\n",
       "      <td>March</td>\n",
       "      <td>30</td>\n",
       "      <td>2021</td>\n",
       "    </tr>\n",
       "    <tr>\n",
       "      <th>1</th>\n",
       "      <td>2.0</td>\n",
       "      <td>I like the style in general, but.....</td>\n",
       "      <td>No Color:No Size</td>\n",
       "      <td>I ordered the black short sleeve, large, and...</td>\n",
       "      <td>August</td>\n",
       "      <td>7</td>\n",
       "      <td>2021</td>\n",
       "    </tr>\n",
       "    <tr>\n",
       "      <th>2</th>\n",
       "      <td>1.0</td>\n",
       "      <td>Low Quality</td>\n",
       "      <td>Color: NavySize: 3X-Large</td>\n",
       "      <td>This was a cheap product with very materials...</td>\n",
       "      <td>March</td>\n",
       "      <td>31</td>\n",
       "      <td>2021</td>\n",
       "    </tr>\n",
       "    <tr>\n",
       "      <th>3</th>\n",
       "      <td>1.0</td>\n",
       "      <td>Poor sizing</td>\n",
       "      <td>Color: Army Green-3Size: 3X-Large</td>\n",
       "      <td>Chinese seem to not have any standards for s...</td>\n",
       "      <td>July</td>\n",
       "      <td>9</td>\n",
       "      <td>2021</td>\n",
       "    </tr>\n",
       "    <tr>\n",
       "      <th>4</th>\n",
       "      <td>1.0</td>\n",
       "      <td>Too sizes smaller than advertised.</td>\n",
       "      <td>Color: Army GreenSize: 3X-Large</td>\n",
       "      <td>The light material is outstanding, but they ...</td>\n",
       "      <td>May</td>\n",
       "      <td>5</td>\n",
       "      <td>2021</td>\n",
       "    </tr>\n",
       "  </tbody>\n",
       "</table>\n",
       "</div>"
      ],
      "text/plain": [
       "   Rating                           Review_Title  \\\n",
       "0     3.0                             RUNS SMALL   \n",
       "1     2.0  I like the style in general, but.....   \n",
       "2     1.0                            Low Quality   \n",
       "3     1.0                            Poor sizing   \n",
       "4     1.0     Too sizes smaller than advertised.   \n",
       "\n",
       "                             Product  \\\n",
       "0         Color: BlackSize: 3X-Large   \n",
       "1                   No Color:No Size   \n",
       "2          Color: NavySize: 3X-Large   \n",
       "3  Color: Army Green-3Size: 3X-Large   \n",
       "4    Color: Army GreenSize: 3X-Large   \n",
       "\n",
       "                                              Review   Month Day   Year  \n",
       "0      i purchased a 3xL but it fit more like a 2xL.   March  30   2021  \n",
       "1    I ordered the black short sleeve, large, and...  August   7   2021  \n",
       "2    This was a cheap product with very materials...   March  31   2021  \n",
       "3    Chinese seem to not have any standards for s...    July   9   2021  \n",
       "4    The light material is outstanding, but they ...     May   5   2021  "
      ]
     },
     "execution_count": 19,
     "metadata": {},
     "output_type": "execute_result"
    }
   ],
   "source": [
    "df.head()"
   ]
  },
  {
   "cell_type": "code",
   "execution_count": 20,
   "id": "8b47b1b1",
   "metadata": {},
   "outputs": [],
   "source": [
    "df[\"Product\"] = df[\"Product\"].str.replace('Color:', '')"
   ]
  },
  {
   "cell_type": "code",
   "execution_count": 21,
   "id": "5e6afbbe",
   "metadata": {},
   "outputs": [],
   "source": [
    "df[\"Product\"] = df[\"Product\"].str.replace('Size', '')"
   ]
  },
  {
   "cell_type": "code",
   "execution_count": 22,
   "id": "4b2b4215",
   "metadata": {
    "scrolled": true
   },
   "outputs": [],
   "source": [
    "df['Product_Color'] = df['Product'].apply(lambda x: x.split(':')[0])"
   ]
  },
  {
   "cell_type": "code",
   "execution_count": 23,
   "id": "d342cf62",
   "metadata": {},
   "outputs": [],
   "source": [
    "df['Product_Color']=df['Product_Color'].str.strip()"
   ]
  },
  {
   "cell_type": "code",
   "execution_count": 24,
   "id": "0eb0ba13",
   "metadata": {},
   "outputs": [],
   "source": [
    "df['Product']=df['Product'].str.strip()"
   ]
  },
  {
   "cell_type": "code",
   "execution_count": 25,
   "id": "20f36c98",
   "metadata": {},
   "outputs": [],
   "source": [
    "df.drop(['Product'], axis='columns', inplace=True)"
   ]
  },
  {
   "cell_type": "code",
   "execution_count": null,
   "id": "1a506f65",
   "metadata": {},
   "outputs": [],
   "source": []
  },
  {
   "cell_type": "code",
   "execution_count": 26,
   "id": "7ee91b0b",
   "metadata": {},
   "outputs": [],
   "source": [
    "Good_Reviews=df[df['Rating']==5.0]['Review']"
   ]
  },
  {
   "cell_type": "code",
   "execution_count": 27,
   "id": "ada19340",
   "metadata": {},
   "outputs": [
    {
     "data": {
      "text/plain": [
       "'  True to size.  Bought it for my son for summer.  It has the layered look and is light weight.  Happy with my purchase!'"
      ]
     },
     "execution_count": 27,
     "metadata": {},
     "output_type": "execute_result"
    }
   ],
   "source": [
    "Good_Reviews.iloc[0]"
   ]
  },
  {
   "cell_type": "code",
   "execution_count": 28,
   "id": "17e89c47",
   "metadata": {},
   "outputs": [
    {
     "data": {
      "text/plain": [
       "85"
      ]
     },
     "execution_count": 28,
     "metadata": {},
     "output_type": "execute_result"
    }
   ],
   "source": [
    "len(Good_Reviews)"
   ]
  },
  {
   "cell_type": "code",
   "execution_count": 29,
   "id": "5dc225d0",
   "metadata": {
    "scrolled": false
   },
   "outputs": [
    {
     "name": "stdout",
     "output_type": "stream",
     "text": [
      "<class 'str'>\n"
     ]
    }
   ],
   "source": [
    "Reviews=\" \"\n",
    "for a in range(len(Good_Reviews)):\n",
    "    Reviews=Reviews + Good_Reviews.iloc[a]\n",
    "\n",
    "print(type(Reviews) )   "
   ]
  },
  {
   "cell_type": "code",
   "execution_count": 30,
   "id": "a9c274a6",
   "metadata": {},
   "outputs": [
    {
     "name": "stdout",
     "output_type": "stream",
     "text": [
      "   True to size.  Bought it for my son for summer.  It has the layered look and is light weight.  Happy with my purchase!  I bought a gray one and after recieving it I loved it enough to buy 3 more. An army green one (my fav), a black one and a long sleeve white one (kinda see-thru, almost shows nips).  If you dont have a gut you'll look great in it! If you have a gut you\"ll be sucking it in with this shirt on.  Really like how these look and fit. I've only had them for a few days. Material is thin so I'm hoping it will last. I bought several of these.  it feels great butbI had to get the next size up to fit  6 2\" 220 the xl fit me snug on the arms but in a good way.  I'd buy more.  Nice soft shirt. Very comfortable.  These are my adult son's favorite  Really great  Amazing  IT FIT GREAT TO ME ....IT WAS MAD COMFORTABLE AND IT STRETCHES ...ILL BUY ANOTHER ONE  Love this hoodie. Decent for the price.  I have washed it several times without any issues.  Good  It fits great! An awesome addition to my hooded t-shirt collection.  Great buy and looks good  Really nice shirt  Perfect fit.  Great product and at a great price.  Product is perfect  Perfect  Love it  superb  I'm 6ft at 220.. the XL was a little small on me (can't wear and undershirt).  It is a composite fabric so susceptible to static, especially in the winter.  Overall I like it though and where it frequently to lounge around.  The length is just how I like it. The fit around the arm is just like I like it. I was concerned it may not fit right because I could not try it on. But it fit just like the shirts I buy in store  bought it has a gift for my husband. he loved it. only thing I would change would be the name inside. it says AMAZON ESSENTIAL which I didn't know it would say that. but hey...\n",
      "  Your browser does not support HTML5 video.\n",
      "   I got the XXL and fit perfectly without any shirt underneath. The fabric is very soft and there is no weird smell.The material doesn't feel cheap either but light enough it breathes easily and can wear it when its cool outside and don't want to wear a jacket or a hoodie! 👍  It's thin....perfect for Summer. It's big on me so comfortable casual  I am 6’1 girl and these fit perfect.  Love this shirt, it's not a heavy material, but it drapes/forms to the body.Ordering another one in a 2nd color.  Great shirt, great price!  2XL is cool fits but it’s tight for me 3XL is too large. This is no 3XL feels like a Large  I was looking for a hoodie with short sleeve for my husband and decided on that one. I really like it, it fits great, the color is nice for my husband. I really like the fabric, is good for the summer. Some of hoodies like that are two wide on the bottom part but this One doesn’t have that problem. It was a good purchase for the price.  I love this hoodie.  It fits so amazingly well for my broader shoulders and chest yet slimmer waist.  It is perfect to wear to work or out or to gym during the chilly days.  It's light weight and feels amazing.  I've been wearing it a lot and have already ordered another variation.  👍🏾  Fits good  Fit  Okay so I'm a size large men's, and I've been wearing used clothes for the past all of my life, and I forget that you have to oversize when you get new clothes. So I got a large, the size you are is the size it will fit slim with, if you want it baggier try 2 sizes larger. I love it, I'm definately buying more but larger. Not even gonna return it, I'll just wash and stretch it. Order to fit, keep in mind they're true sizes  Dope fir. Breathable. Thin but dope  Im changing up my style, kinda going back to the days when short sleeve hoodies once existed i suppose.  This shirt is just like a T-shirt with a hood. Very light and comfy and very little sheer, for those hot days in the south.  I am 210 with a wide chest and shoulders, the shirt hugs me snug but not quite like a muscle shirt.  My stomach is no six pack but its not a belly either so the shirt doesnt hug me around the mid section.  If you have gut, beer belly, etc and are fine with a T - shirt that has a hood, that will hug your belly, then by all means buy this shirt.  I wouldn't recommend it though especially for guys with a round belly but that's just me. Alot of folks are fine with their tummies and that's cool too.  On my arms the shirt fits like a normal fitted T shirt, but my biceps are above average but not large or huge.  I bought the 3x and it fits like the 2xl 2tg 2eg pack of 5 tees(fruit of the loom etc) in the mens section, that you get from the local Wal-E's.  I like this shirt so much, I ordered the rest of the colors In 3x.  Men keep your women in the house if you see me outside with this T-shirt Hoodie on 😁.  I don't want to be responsible for divorces.  Also i would post a pic but again im no relatioship ruin'r(that's just me saying I like these shirts alot.) I think it's even better if you have exaggerated muscles I suppose although I don't have exaggerated muscles this shirt makes me wish I did.  It fit fits my son. He likes his shirts on the smaller side, so it worked out. He thinks he has a chest... 😂  Its ok nice fit  Great fit. Love this shirt. Quality item with family delivery.  Loved the shirt and the fit  Muy buen producto  I love the shirt  Just what I wanted  He wears hoodies all winter long, and really likes having the option of putting a hood on his head (autistic reflex, I'm pretty sure).  Found this on sale and I just HAD to buy it for him. He is loving all the clothes that I've gotten for him this summer...I'm starting to \"get\" his style.  Just gotta wash it tomorrow and he said as soon as it's done give him a yell and he'll put it on!  He just LOVES this!  Great looking shirt. Fits very loose. I normally wear a 2x. I definitely needed a xl in this shirt. Holds shape well and has minimal shrinkage. I will be ordering different colors  Fit was not an issue and has plenty of length in the sleeves and body. It fits slim, but not skin tight. Received a lot of compliments and ordered a few other colors once I got my first one.  Fits perfect,will recomend this shirt  Nice shirt. My son says it's comfortable.  Tbh I looked at the reviews and thought it was bad but when mine came in I feel like a king in these  Bought it for my husband and it fit him perfectly. Great quality for the price. Hubby wants to try the other colors.  Bought it for my husband and he loves it  Comfortable yes but not a actual hoodie thickness. Its sheer material which I like but yes I'd buy others.  Great fit and looks awesome.  Good  Bought for my husband. He loves the fabric. I love the fit  Size  Very well made. I really like this product  I almost didn't buy this because of all the bad reviews. For this price there must be something wrong, right?Evidently, not for me. I got the dark gray and I love it. The material is thin, so it's not going to keep you warm in the winter, but it's great for cool days or lounging around the house. Another review said it was see-through but I definitely can't see through this while I'm wearing it. The dye didn't stain my white sweater I wore over it, or anything else for that matter. I've worn this for about a month now with no issues at all and it's become one of the first items I wear out of the wash.  I bought this shirt for my husband at Christmas time. It’s just right for him and he has a little extra room in the chest area which is perfect because he works out.  My husband loves this shirt. He works out in it and wears it around the house for comfort.  Good shirt for the value. Fits fine.  great fit  I like it really comfy  Perfect  Ok  Quality is good service great and delivery was fast . satisfied customer will be a continuous customer  It’s a cool, comfortable shirt that I love wearing. I just love how you can use it for the gym or to go out.  Great product fits perfect  I used this for casual wear  I like it 👌  As a shirt, it is exactly  what you would expect for the price.  Looks so good  Lightweight and comfortable according to my son. It was exactly what he was looking for.  Good material and great fit.  I was worried that it was not going to be true to size but it turned out better than I expected.  The color is great as well.  They are amazing just how I wanted them super thin perfect for az weather!  Fits great, super comfortable and is just a quality product. Getting another in other color asap. Its like a thicker good tee material so it does keep you warm but not hot during or between activity. Love it  Very light weight,  quality material  I enjoy it for daily wear, I have not washed it at this time, I ordered 3 different colors so I will let you know how it turns out and I wash everything in cold and hang to dry  Casual wear  ALREADY HAD TWO OF THESE SO I KNEW WHAT TO EXPECT  Nice fit. I was worried that it was going to be too tight, but the fit was perfect. Material is light so can be worn on a 90 degree day like today with ease.  Very nice casual shirt that can be worn with Jeans or shorts. Looks very nice on my son.  Perfect fit. Great color choices\n",
      "  Your browser does not support HTML5 video.\n",
      "   This is a fashionable well made shirt that is perfect for a teenager. It is h ooded, form fitting, and comes in a choice of many different colors. The bottom is made to look like you have two shirts on. I personally really like that as it gives the shirt quite a bit of character and personality.\n"
     ]
    }
   ],
   "source": [
    "print(Reviews)"
   ]
  },
  {
   "cell_type": "code",
   "execution_count": 31,
   "id": "4b7d9ba9",
   "metadata": {
    "scrolled": true
   },
   "outputs": [
    {
     "name": "stdout",
     "output_type": "stream",
     "text": [
      "Requirement already satisfied: nltk in /Users/em/opt/anaconda3/lib/python3.8/site-packages (3.6.1)\n",
      "Requirement already satisfied: click in /Users/em/opt/anaconda3/lib/python3.8/site-packages (from nltk) (7.1.2)\n",
      "Requirement already satisfied: regex in /Users/em/opt/anaconda3/lib/python3.8/site-packages (from nltk) (2021.4.4)\n",
      "Requirement already satisfied: tqdm in /Users/em/opt/anaconda3/lib/python3.8/site-packages (from nltk) (4.59.0)\n",
      "Requirement already satisfied: joblib in /Users/em/opt/anaconda3/lib/python3.8/site-packages (from nltk) (1.0.1)\n"
     ]
    }
   ],
   "source": [
    "!pip install nltk"
   ]
  },
  {
   "cell_type": "code",
   "execution_count": null,
   "id": "7b52e66f",
   "metadata": {},
   "outputs": [],
   "source": []
  },
  {
   "cell_type": "code",
   "execution_count": 32,
   "id": "0a4ec037",
   "metadata": {},
   "outputs": [],
   "source": [
    "import nltk"
   ]
  },
  {
   "cell_type": "code",
   "execution_count": 33,
   "id": "d92d777d",
   "metadata": {},
   "outputs": [
    {
     "name": "stderr",
     "output_type": "stream",
     "text": [
      "[nltk_data] Downloading package stopwords to /Users/em/nltk_data...\n",
      "[nltk_data]   Unzipping corpora/stopwords.zip.\n"
     ]
    }
   ],
   "source": [
    "from nltk.corpus import stopwords\n",
    "nltk.download('stopwords')\n",
    "from nltk.tokenize import word_tokenize"
   ]
  },
  {
   "cell_type": "code",
   "execution_count": 34,
   "id": "4b803a89",
   "metadata": {
    "scrolled": true
   },
   "outputs": [
    {
     "name": "stderr",
     "output_type": "stream",
     "text": [
      "[nltk_data] Downloading package punkt to /Users/em/nltk_data...\n",
      "[nltk_data]   Unzipping tokenizers/punkt.zip.\n"
     ]
    },
    {
     "data": {
      "text/plain": [
       "True"
      ]
     },
     "execution_count": 34,
     "metadata": {},
     "output_type": "execute_result"
    }
   ],
   "source": [
    "nltk.download('punkt')"
   ]
  },
  {
   "cell_type": "code",
   "execution_count": 35,
   "id": "7d9d63f5",
   "metadata": {},
   "outputs": [],
   "source": [
    "text_tokens = word_tokenize(Reviews)"
   ]
  },
  {
   "cell_type": "code",
   "execution_count": 36,
   "id": "84452971",
   "metadata": {},
   "outputs": [],
   "source": [
    "G_tokens_without_sw = [word for word in text_tokens if not word in stopwords.words()]"
   ]
  },
  {
   "cell_type": "code",
   "execution_count": 37,
   "id": "38b49843",
   "metadata": {
    "scrolled": true
   },
   "outputs": [
    {
     "name": "stdout",
     "output_type": "stream",
     "text": [
      "['True', 'size', '.', 'Bought', 'summer', '.', 'It', 'layered', 'look', 'light', 'weight', '.', 'Happy', 'purchase', '!', 'I', 'bought', 'gray', 'recieving', 'I', 'loved', 'enough', 'buy', '3', '.', 'An', 'army', 'green', '(', 'fav', ')', ',', 'black', 'long', 'sleeve', 'white', '(', 'kinda', 'see-thru', ',', 'almost', 'shows', 'nips', ')', '.', 'If', 'dont', 'gut', \"'ll\", 'look', 'great', '!', 'If', 'gut', \"''\", 'sucking', 'shirt', '.', 'Really', 'like', 'look', 'fit', '.', 'I', \"'ve\", 'days', '.', 'Material', 'thin', 'I', \"'m\", 'hoping', 'last', '.', 'I', 'bought', 'several', '.', 'feels', 'great', 'butbI', 'get', 'next', 'size', 'fit', '6', '2', \"''\", '220', 'xl', 'fit', 'snug', 'arms', 'good', 'way', '.', 'I', \"'d\", 'buy', '.', 'Nice', 'soft', 'shirt', '.', 'Very', 'comfortable', '.', 'These', 'adult', \"'s\", 'favorite', 'Really', 'great', 'Amazing', 'IT', 'FIT', 'GREAT', 'TO', 'ME', '....', 'IT', 'WAS', 'MAD', 'COMFORTABLE', 'AND', 'IT', 'STRETCHES', '...', 'ILL', 'BUY', 'ANOTHER', 'ONE', 'Love', 'hoodie', '.', 'Decent', 'price', '.', 'I', 'washed', 'several', 'times', 'without', 'issues', '.', 'Good', 'It', 'fits', 'great', '!', 'An', 'awesome', 'addition', 'hooded', 't-shirt', 'collection', '.', 'Great', 'buy', 'looks', 'good', 'Really', 'nice', 'shirt', 'Perfect', 'fit', '.', 'Great', 'product', 'great', 'price', '.', 'Product', 'perfect', 'Perfect', 'Love', 'superb', 'I', \"'m\", '6ft', '220', '..', 'XL', 'little', 'small', '(', \"n't\", 'wear', 'undershirt', ')', '.', 'It', 'composite', 'fabric', 'susceptible', 'static', ',', 'especially', 'winter', '.', 'Overall', 'I', 'like', 'though', 'frequently', 'lounge', 'around', '.', 'The', 'length', 'I', 'like', '.', 'The', 'fit', 'around', 'arm', 'like', 'I', 'like', '.', 'I', 'concerned', 'may', 'fit', 'right', 'I', 'could', 'try', '.', 'But', 'fit', 'like', 'shirts', 'I', 'buy', 'store', 'bought', 'gift', 'husband', '.', 'loved', '.', 'thing', 'I', 'would', 'change', 'would', 'inside', '.', 'says', 'AMAZON', 'ESSENTIAL', 'I', \"n't\", 'know', 'would', 'say', '.', 'hey', '...', 'Your', 'browser', 'support', 'HTML5', 'video', '.', 'I', 'got', 'XXL', 'fit', 'perfectly', 'without', 'shirt', 'underneath', '.', 'The', 'fabric', 'soft', 'weird', 'smell.The', 'material', \"n't\", 'feel', 'cheap', 'either', 'light', 'enough', 'breathes', 'easily', 'wear', 'cool', 'outside', \"n't\", 'wear', 'jacket', 'hoodie', '!', '👍', 'It', \"'s\", 'thin', '....', 'perfect', 'Summer', '.', 'It', \"'s\", 'big', 'comfortable', 'casual', 'I', '6', '’', '1', 'girl', 'fit', 'perfect', '.', 'Love', 'shirt', ',', \"'s\", 'heavy', 'material', ',', 'drapes/forms', 'body.Ordering', 'another', '2nd', 'color', '.', 'Great', 'shirt', ',', 'great', 'price', '!', '2XL', 'cool', 'fits', '’', 'tight', '3XL', 'large', '.', 'This', '3XL', 'feels', 'like', 'Large', 'I', 'looking', 'hoodie', 'short', 'sleeve', 'husband', 'decided', '.', 'I', 'really', 'like', ',', 'fits', 'great', ',', 'color', 'nice', 'husband', '.', 'I', 'really', 'like', 'fabric', ',', 'good', 'summer', '.', 'Some', 'hoodies', 'like', 'two', 'wide', 'bottom', 'part', 'One', '’', 'problem', '.', 'It', 'good', 'purchase', 'price', '.', 'I', 'love', 'hoodie', '.', 'It', 'fits', 'amazingly', 'well', 'broader', 'shoulders', 'chest', 'yet', 'slimmer', 'waist', '.', 'It', 'perfect', 'wear', 'work', 'gym', 'chilly', 'days', '.', 'It', \"'s\", 'light', 'weight', 'feels', 'amazing', '.', 'I', \"'ve\", 'wearing', 'lot', 'already', 'ordered', 'another', 'variation', '.', '👍🏾', 'Fits', 'good', 'Fit', 'Okay', 'I', \"'m\", 'size', 'large', \"'s\", ',', 'I', \"'ve\", 'wearing', 'used', 'clothes', 'past', 'life', ',', 'I', 'forget', 'oversize', 'get', 'new', 'clothes', '.', 'So', 'I', 'got', 'large', ',', 'size', 'size', 'fit', 'slim', ',', 'baggier', 'try', '2', 'sizes', 'larger', '.', 'I', 'love', ',', 'I', \"'m\", 'definately', 'buying', 'larger', '.', 'Not', 'even', 'gon', 'return', ',', 'I', \"'ll\", 'wash', 'stretch', '.', 'Order', 'fit', ',', 'keep', 'mind', \"'re\", 'true', 'sizes', 'Dope', 'fir', '.', 'Breathable', '.', 'Thin', 'dope', 'Im', 'changing', 'style', ',', 'kinda', 'going', 'back', 'days', 'short', 'sleeve', 'hoodies', 'existed', 'suppose', '.', 'This', 'shirt', 'like', 'T-shirt', 'hood', '.', 'Very', 'light', 'comfy', 'little', 'sheer', ',', 'hot', 'days', 'south', '.', 'I', '210', 'wide', 'chest', 'shoulders', ',', 'shirt', 'hugs', 'snug', 'quite', 'like', 'muscle', 'shirt', '.', 'My', 'stomach', 'six', 'pack', 'belly', 'either', 'shirt', 'doesnt', 'hug', 'around', 'mid', 'section', '.', 'If', 'gut', ',', 'beer', 'belly', ',', 'etc', 'fine', 'T', '-', 'shirt', 'hood', ',', 'hug', 'belly', ',', 'means', 'buy', 'shirt', '.', 'I', 'would', \"n't\", 'recommend', 'though', 'especially', 'guys', 'round', 'belly', \"'s\", '.', 'Alot', 'folks', 'fine', 'tummies', \"'s\", 'cool', '.', 'On', 'arms', 'shirt', 'fits', 'like', 'normal', 'fitted', 'T', 'shirt', ',', 'biceps', 'average', 'large', 'huge', '.', 'I', 'bought', '3x', 'fits', 'like', '2xl', '2tg', '2eg', 'pack', '5', 'tees', '(', 'fruit', 'loom', 'etc', ')', 'mens', 'section', ',', 'get', 'local', 'Wal-E', \"'s\", '.', 'I', 'like', 'shirt', 'much', ',', 'I', 'ordered', 'rest', 'colors', 'In', '3x', '.', 'Men', 'keep', 'women', 'house', 'see', 'outside', 'T-shirt', 'Hoodie', '😁', '.', 'I', \"n't\", 'responsible', 'divorces', '.', 'Also', 'would', 'post', 'relatioship', 'ruin', \"'\", 'r', '(', \"'s\", 'saying', 'I', 'like', 'shirts', 'alot', '.', ')', 'I', 'think', \"'s\", 'even', 'better', 'exaggerated', 'muscles', 'I', 'suppose', 'although', 'I', \"n't\", 'exaggerated', 'muscles', 'shirt', 'makes', 'wish', 'I', '.', 'It', 'fit', 'fits', '.', 'He', 'likes', 'shirts', 'smaller', 'side', ',', 'worked', '.', 'He', 'thinks', 'chest', '...', '😂', 'Its', 'ok', 'nice', 'fit', 'Great', 'fit', '.', 'Love', 'shirt', '.', 'Quality', 'item', 'family', 'delivery', '.', 'Loved', 'shirt', 'fit', 'Muy', 'buen', 'producto', 'I', 'love', 'shirt', 'Just', 'I', 'wanted', 'He', 'wears', 'hoodies', 'winter', 'long', ',', 'really', 'likes', 'option', 'putting', 'hood', 'head', '(', 'autistic', 'reflex', ',', 'I', \"'m\", 'pretty', 'sure', ')', '.', 'Found', 'I', 'HAD', 'buy', '.', 'He', 'loving', 'clothes', 'I', \"'ve\", 'gotten', 'summer', '...', 'I', \"'m\", 'starting', '``', 'get', \"''\", 'style', '.', 'Just', 'got', 'wash', 'tomorrow', 'said', 'soon', \"'s\", 'done', 'give', 'yell', \"'ll\", 'put', '!', 'He', 'LOVES', '!', 'Great', 'looking', 'shirt', '.', 'Fits', 'loose', '.', 'I', 'normally', 'wear', '2x', '.', 'I', 'definitely', 'needed', 'xl', 'shirt', '.', 'Holds', 'shape', 'well', 'minimal', 'shrinkage', '.', 'I', 'ordering', 'different', 'colors', 'Fit', 'issue', 'plenty', 'length', 'sleeves', 'body', '.', 'It', 'fits', 'slim', ',', 'skin', 'tight', '.', 'Received', 'lot', 'compliments', 'ordered', 'colors', 'I', 'got', 'first', '.', 'Fits', 'perfect', ',', 'recomend', 'shirt', 'Nice', 'shirt', '.', 'My', 'says', \"'s\", 'comfortable', '.', 'Tbh', 'I', 'looked', 'reviews', 'thought', 'bad', 'came', 'I', 'feel', 'like', 'king', 'Bought', 'husband', 'fit', 'perfectly', '.', 'Great', 'quality', 'price', '.', 'Hubby', 'wants', 'try', 'colors', '.', 'Bought', 'husband', 'loves', 'Comfortable', 'yes', 'actual', 'hoodie', 'thickness', '.', 'Its', 'sheer', 'material', 'I', 'like', 'yes', 'I', \"'d\", 'buy', 'others', '.', 'Great', 'fit', 'looks', 'awesome', '.', 'Good', 'Bought', 'husband', '.', 'He', 'loves', 'fabric', '.', 'I', 'love', 'fit', 'Size', 'Very', 'well', 'made', '.', 'I', 'really', 'like', 'product', 'I', 'almost', \"n't\", 'buy', 'bad', 'reviews', '.', 'For', 'price', 'must', 'something', 'wrong', ',', 'right', '?', 'Evidently', ',', '.', 'I', 'got', 'dark', 'gray', 'I', 'love', '.', 'The', 'material', 'thin', ',', \"'s\", 'going', 'keep', 'warm', 'winter', ',', \"'s\", 'great', 'cool', 'days', 'lounging', 'around', 'house', '.', 'Another', 'review', 'said', 'see-through', 'I', 'definitely', \"n't\", 'see', 'I', \"'m\", 'wearing', '.', 'The', 'dye', \"n't\", 'stain', 'white', 'sweater', 'I', 'wore', ',', 'anything', 'else', 'matter', '.', 'I', \"'ve\", 'worn', 'month', 'issues', \"'s\", 'become', 'first', 'items', 'I', 'wear', 'wash', '.', 'I', 'bought', 'shirt', 'husband', 'Christmas', 'time', '.', 'It', '’', 'right', 'little', 'extra', 'room', 'chest', 'area', 'perfect', 'works', '.', 'My', 'husband', 'loves', 'shirt', '.', 'He', 'works', 'wears', 'around', 'house', 'comfort', '.', 'Good', 'shirt', 'value', '.', 'Fits', 'fine', '.', 'great', 'fit', 'I', 'like', 'really', 'comfy', 'Perfect', 'Ok', 'Quality', 'good', 'service', 'great', 'delivery', 'fast', '.', 'satisfied', 'customer', 'continuous', 'customer', 'It', '’', 'cool', ',', 'comfortable', 'shirt', 'I', 'love', 'wearing', '.', 'I', 'love', 'use', 'gym', 'go', '.', 'Great', 'product', 'fits', 'perfect', 'I', 'used', 'casual', 'wear', 'I', 'like', '👌', 'As', 'shirt', ',', 'exactly', 'would', 'expect', 'price', '.', 'Looks', 'good', 'Lightweight', 'comfortable', 'according', '.', 'It', 'exactly', 'looking', '.', 'Good', 'material', 'great', 'fit', '.', 'I', 'worried', 'going', 'true', 'size', 'turned', 'better', 'I', 'expected', '.', 'The', 'color', 'great', 'well', '.', 'They', 'amazing', 'I', 'wanted', 'super', 'thin', 'perfect', 'weather', '!', 'Fits', 'great', ',', 'super', 'comfortable', 'quality', 'product', '.', 'Getting', 'another', 'color', 'asap', '.', 'Its', 'like', 'thicker', 'good', 'tee', 'material', 'keep', 'warm', 'hot', 'activity', '.', 'Love', 'Very', 'light', 'weight', ',', 'quality', 'material', 'I', 'enjoy', 'daily', 'wear', ',', 'I', 'washed', 'time', ',', 'I', 'ordered', '3', 'different', 'colors', 'I', 'let', 'know', 'turns', 'I', 'wash', 'everything', 'cold', 'hang', 'dry', 'Casual', 'wear', 'ALREADY', 'HAD', 'TWO', 'OF', 'THESE', 'SO', 'I', 'KNEW', 'WHAT', 'TO', 'EXPECT', 'Nice', 'fit', '.', 'I', 'worried', 'going', 'tight', ',', 'fit', 'perfect', '.', 'Material', 'light', 'worn', '90', 'degree', 'day', 'like', 'today', 'ease', '.', 'Very', 'nice', 'casual', 'shirt', 'worn', 'Jeans', 'shorts', '.', 'Looks', 'nice', '.', 'Perfect', 'fit', '.', 'Great', 'color', 'choices', 'Your', 'browser', 'support', 'HTML5', 'video', '.', 'This', 'fashionable', 'well', 'made', 'shirt', 'perfect', 'teenager', '.', 'It', 'ooded', ',', 'form', 'fitting', ',', 'comes', 'choice', 'many', 'different', 'colors', '.', 'The', 'bottom', 'made', 'look', 'like', 'two', 'shirts', '.', 'I', 'personally', 'really', 'like', 'gives', 'shirt', 'quite', 'bit', 'character', 'personality', '.']\n"
     ]
    }
   ],
   "source": [
    "print(tokens_without_sw)"
   ]
  },
  {
   "cell_type": "code",
   "execution_count": 41,
   "id": "97bfbfb6",
   "metadata": {},
   "outputs": [],
   "source": [
    "counter1=Counter(G_tokens_without_sw)"
   ]
  },
  {
   "cell_type": "code",
   "execution_count": 42,
   "id": "a1ba78a8",
   "metadata": {},
   "outputs": [],
   "source": [
    "most_occur=counter1.most_common(100)"
   ]
  },
  {
   "cell_type": "code",
   "execution_count": null,
   "id": "d61c9830",
   "metadata": {},
   "outputs": [],
   "source": []
  },
  {
   "cell_type": "code",
   "execution_count": 507,
   "id": "5b034e7a",
   "metadata": {},
   "outputs": [
    {
     "name": "stdout",
     "output_type": "stream",
     "text": [
      "[('.', 130), ('I', 82), (',', 45), ('shirt', 31), ('like', 25), ('fit', 23), (\"'s\", 16), ('It', 15), ('great', 13), ('perfect', 10), (\"n't\", 10), ('fits', 9), ('Great', 9), ('wear', 9), ('!', 8), ('buy', 8), ('good', 8), ('husband', 8), (\"'m\", 7), ('price', 7), ('The', 7), ('material', 7), ('love', 7), ('He', 7), ('size', 6), ('light', 6), ('(', 6), (')', 6), ('comfortable', 6), ('would', 6), ('really', 6), ('colors', 6), ('bought', 5), (\"'ve\", 5), ('days', 5), ('Very', 5), ('Love', 5), ('hoodie', 5), ('nice', 5), ('around', 5), ('got', 5), ('cool', 5), ('’', 5), ('color', 5), ('well', 5), ('Fits', 5), ('Bought', 4), ('look', 4), ('thin', 4), ('get', 4), ('...', 4), ('Good', 4), ('Perfect', 4), ('product', 4), ('fabric', 4), ('shirts', 4), ('large', 4), ('chest', 4), ('wearing', 4), ('ordered', 4), ('wash', 4), ('keep', 4), ('going', 4), ('belly', 4), ('summer', 3), ('weight', 3), ('sleeve', 3), ('If', 3), ('gut', 3), (\"'ll\", 3), (\"''\", 3), ('Really', 3), ('feels', 3), ('Nice', 3), ('IT', 3), ('little', 3), ('winter', 3), ('right', 3), ('try', 3), ('casual', 3), ('another', 3), ('tight', 3), ('This', 3), ('looking', 3), ('hoodies', 3), ('clothes', 3), ('hood', 3), ('My', 3), ('fine', 3), ('house', 3), ('Its', 3), ('different', 3), ('quality', 3), ('loves', 3), ('made', 3), ('worn', 3), ('purchase', 2), ('gray', 2), ('loved', 2), ('enough', 2)]\n"
     ]
    }
   ],
   "source": [
    "print(most_occur)"
   ]
  },
  {
   "cell_type": "code",
   "execution_count": 43,
   "id": "d6ccdd5e",
   "metadata": {},
   "outputs": [],
   "source": [
    "Bad_Reviews=df[df['Rating']<=3.0]['Review']"
   ]
  },
  {
   "cell_type": "code",
   "execution_count": 44,
   "id": "2a21e580",
   "metadata": {},
   "outputs": [
    {
     "data": {
      "text/plain": [
       "0        i purchased a 3xL but it fit more like a 2xL.\n",
       "1      I ordered the black short sleeve, large, and...\n",
       "2      This was a cheap product with very materials...\n",
       "3      Chinese seem to not have any standards for s...\n",
       "4      The light material is outstanding, but they ...\n",
       "Name: Review, dtype: object"
      ]
     },
     "execution_count": 44,
     "metadata": {},
     "output_type": "execute_result"
    }
   ],
   "source": [
    "Bad_Reviews.head()"
   ]
  },
  {
   "cell_type": "code",
   "execution_count": 45,
   "id": "2a138478",
   "metadata": {
    "scrolled": true
   },
   "outputs": [
    {
     "name": "stdout",
     "output_type": "stream",
     "text": [
      "   i purchased a 3xL but it fit more like a 2xL.  I ordered the black short sleeve, large, and I loved it. So I came back to get the white one, this time I ordered the one with the little folds on the sleeves. It looks a lot cheaper IRL. Plus, because the material is thinner than in the picture, so you can see through it a bit. Overall, I love this style, but get one with a solid color (not white) and normal sleeves!  This was a cheap product with very materials and it was too small.  Chinese seem to not have any standards for sizing, ordered 2 sizes to big, and barely went over my head, wasn't even shoulders wide. Never buy Chinese  The light material is outstanding, but they run two sizes small. I bought the 3XL and they fit like a medium.\n",
      "  Your browser does not support HTML5 video.\n",
      "   So the x-large top I ordered for me fits my medium sized wife perfectly. Unless I planned to show off all my curves this runs small.  if you aren't ripped, pass on this shirt. else if you are ripped and you like this style then this is a good shirt.  So I'm 6'2\" and I'm 180 lbs and this shirt barely fits me. The size chart was a bit off so I would size up.  This product is on a Asia size chart and NOT a US chart. XL is medium size on a full grown US human being. If anyone wants the correct size, double up from XL and it should work better. I'm rating this with 1 star, because when I order XL I expect it to be XL, but the product is Medium size, below Large, so way off from the actual size: total waste of money on my part.  I wouldn’t buy it again. Going to goodwill.  I expected a little more but I do wear it  Was notbthe right fit for size i got  Was mainly the color that was off from the site. Was more of a red than a burgundy. Other than color design fit n feel r great  Way too thin. Pictures online don’t do it justice. Got myself size up and still way to small. White fabric on bottom is cheap and will for sure fall out at some point.  Soft feel  Pos.  Cut on the fabric is bad.  Sleeves don't have real hem, they're rolled and cheaply sewn into place.  The front is weirdly long and the back is shorter.  Fabric is soft, material seems pretty breathable which isnt something I would usually look for in a hoodie. Be sure to triple check sizes. I normally wear an XL so ordered a 2XL and its still small on me.  The fabric's too thin, threads are loose and the white part below is not even stitched so it's getting undone. It fits and is comfortable though.  It’s made cheap, and it fits 2-3 sizes to small.2X = LargeXL = Med  Not true to size is supposed to be  This is not XL  No way is this shirt 3x I can't even get my shoulders into the shirt waste of money  This was advertised as being a HOODIE not a blouse. I’m so mad. I’m making a set for someone n this made me to believe this was a hoodie!! Not impressed or happy  Shirt is nice but I wanted short sleeve.  Not sure why they assumed I wanted long.  I ordered a 3x and the shirt fit like a 1x.  Very thin material practically see-through and did not fit, ordered size 3X but was like a 1X fit.  Seems to be decent quality but the XL I received is around the same size as a M in other brands  The shirt is a very low quality shirt that I wouldn’t play 8 bucks for, let alone 20 bucks  Size does not match tag, much smaller..  El color no es tan como esperaba.  2x fits like a medium. Thin material. Price should b lower. I will not order from here again  Not true to size at all, has to send back.  Should be cheaper with the material being used to make it  DEFINITELY not a 3 XLT  Not true to size  same as title ^  2 sizes too small, Paper thin I took a pic by the light to show how thin, poor quality. The trim on the bottom was cut very sloppy and crooked. I repeat very poor quality, should cost $2.99 not $17 Spend your money elsewhere.  I normally wear a 2x shirt so I said ok I'll order a 3x just in case. The shirt arrived.. and now ..my wife who normally wears a women's M to L is wearing this hoodie.. so YES this runs EXTREMELY small.  My nephew bought this shirt which is on the right my son loved the shirt so I ordered him the same shirt, same size and same color. As you can clearly see in the picture the shirts are completely different. The one on the right is nice and thick as the one on the left is very thin and a completely different fabric. I am very disappointed and will be returning. I’ve got a very disappointed son as well!!  Was excited to get this but unfortunately when it showed up i was highly disappointed. Ordered a black long sleeve and i received a grey short sleeve. The material is so thin compared to how the pic looks, that i have to assume its not the same material shown. Ended up dying it myself to the color i ordered but oh well lesson learned.  Doesn’t fit as expected and poor material quality, much less than my expectations, I don't recommend.  Was too small and look so cheap..🤮  This product is incredibly thin. Good for spring or summer  It is the cheapest material do not buy  Had to send back, was too tight for my husband but does look exactly like the picture and was kinda thin as far as fabric. Would be a nice summer shirt but definitely not fall or winter ❄️  I honestly will never buy this brand again. I recently bought two shirts from them including this item and found myself trying to put on a so called XXL but felt like I was putting on medium. All my other clothes are either XL or XXL and fit comfortably. Don’t recommend this brand for bigger people.  Not like the grey one I purchased.  Thinner material and not as good of quality.  Not happy with my purchase.  Received the package in time and it looks and fit good but apparently this was someone’s return because it reeked of body Odor.  Dice fiel al tamaño , pero es tamaño muy pequeño (tamaño chino)  It looked nice, but I sent it back because the material felt cheap, and it ran a size too big.  Poor made, poor quality. Not at all satisfied.  Worst product I have ever bought on AMAZON.  This shirt Shrank a Full size after the first wash. Get One Full size larger than what you usually wear.  Shirt feels cheap. The hem is flimsy and it is an extremely thin garment. Does not fit as snug as I would like and due to construction I'm sure it will stretch and fray  It was very poor quality and the sizes are way off. I ordered a 3XL so it would be loose. When I tried it on it fit like a regular large. Be sure to buy 2-3 sizes higher than what you actually want if you want these to fit.  cant even fit my head thru it and  Not as advertised  Too small  Item not at all as shown on picture. Material very thin and cheap. Will not order or recommend  I wore this shirt for an hour. In that time it stained my whole torso black and permanently stained my leather sofa.  Terrible  Fabric was too thin and you could see through it.  The hoodie is cheap made 😡😡  Not true to size at all I were a 2x I ordered a 3 to be safe it's skin tight my 2x shirts are even a lil loose  This is definitely not a men's size.  I ordered a men's XL and it might have been a boy's XL.  I got a 3x and it fits tight in the stomach are not sure why. Maybe get a bigger size than what you wear.  But love the look and the product.  The color is good but the size is wrong, damn oriental sizing once again. Kind of fed up with Amazon clothing I think its time to shop locally once again.  Need made In America by Americans.  Shirt felt more like a 2xl rather than a 3xl.  This shirt is very thin. The brown color of the shirt that is advertised does not match. The shirt is more of a vanilla color. Do not buy this product, it isn’t worth the price.  Runs small. Will be returning it.  It was perfect but the color of my shirt it wasn't the color I seen in the picture.  I saw burgundy in the pic. And I got red.😏  Thin cheap fabric  Runs small, order a size up.  Too Small fit like a small  Brought a 2XL and it fits like a “SHMEDIUM” very thin material... luckily I’m losing weight and I’m setting it as a goal to fit in to... Lord willing I plan to fit in it soon..  😒  Ordered 3XL sizing received what says 3XL, but doesn't fit my 2XL husband, is very tight on me a 1XL .  Bottom is rough cut (you can see the scissor strokes to cut the material & obviously not hemmed, looks poorly done) Material Very thin, see thru.  (minor item, there's no made of what materials tag on the shirt)  Color was a little off and looks thicker in the picture  Looks and fits grate but the quality is poor  The color is completely different from picture  It was a nice shirt but it was extremely thin material.  When the item was mailed to me the bottom of the shirt on I I had mended  by a Taylor  This was for my husband who usually wears XL, but this was too tight.  I gave it to my son who usually wears a medium or large.  The fabric was nice and soft, though.  The shirt material is so thin you can see write through it  Cheap looking.  Mala calidad muy pequeño muy incómodo  It was too small  Material sucks  These are very fashionable and comfortable, but lose the hood.  It keeps swinging down when bending over and kind of annoys me.  It if was a hoodless long sleeve shirt, it would be better.  It’s very thin which is nice and it’s okay material. However, if you don’t look like the man in the photos you just look frumpy and kinda lame fitted. It also curves up at the hips so it’s not long over there. It’s just a weird cut and design that doesn’t look well without and under shirt. Would have returned had it not been washed.  Bad quality, I just received today and the front piece of leather ( brand tag) its falling off i would not buy this again...really bad Chinese quality  No pues son unos punches estafadores en la foto muy original en las manos pura basura me desepsionan  This is a cheap, thin, flimsy shirt.  Don't waste your money.  You could make a curtain look better....  Style!  Runs extremely small!!!  Ok so the fabric is total crap. It’s not a color fast material so it stained my skin after washing it twice. The sizes run small and fit wierd unless you are a petite 12 year old. I’d return the item if I could.... DO NOT ORDER!!!! Cheap and crappy product  Cute tee but for a man that’s muscular up top like my husband this was way too small. We got a 2xl and it fit like a men’s medium.  I ordered a XL  & I got a shirt only a tiny child could wear.  OMG it comes with a piece  of leather just sewn into the the front of the shirt.  Stupid.  This thing went strait in the trash.  Waste of money.  The lowest quality clothing I have purchased on Amazon. Thin and flimsy fabric, sewing seems incomplete; open seams. Surprisingly low quality.  Fits a little more like a large then a medium. WAS NOT TAN BUT ALMOST PINK! Extreamly thin. You can see through all of it. Maybe worth $5  If you don’t have muscle don’t buy it. My fat thought I would look good. I can see my nipples from a mile away  Sizes run small. Order 1-2 sizes up  Had a snag in it. Had to return. Fabric is very thin looked cheap.  This a terrible misleading productIt's thin cheap material. AND cut way to short..  This product is 2 to 3 times smaller than what you order.  Shirt is 2 sizes too small.  Supper thin  Terrible. Completely see through and too small despite their measurements  This has a hood, but is as thin as a sheet. It’s see-through and itchy. I would never consider it a hoodie. It’s cheaply made- can’t imagine it will wash well.  Way, way too thin. I bought the white XL short sleeve. The fit was spot on just like shown in the pics, but it is virtually see through. Maybe I'll try one with color.  I ordered a \"Khaki hooded T-shirt\" but what I got is a light salmon/pink see through shirt. There are also strange seams on the front of shirt that look awful. Shipping was fine and the fit is ok.  The item was the right color, the size was a little small. The material was awful!! It was see-through!! Super thin! I was almost afraid to handle it, thinking it would tear.  It’s one time use !!! I washed it and it became not good to use, it shrieked, the white strip looked sooo bad, i couldn’t use it again  This product was very poorly manufactured. There were many strings hanging which eventually led to stitching to unravel once washed.  Fabrics awful cheaply made color islet like picture  I really loved the cut of this shirt and the way it tappered down around my waist area. It's just a lot thinner than I imagined.  Not a hoodie it’s a t-shirt with a hood on it and it’s transparent  Poorly made. Thin thin thin.  Poor quality material.. Not as shown in the picture  Very poor Quality in stitching !! Very cheap work - Sorry !Will not advise anyone to buy this product...  The material doesn’t worth the price, poor job I have returned it  Poor quality, its like see through.  The hoodie fits tightly as it runs small, and thinly made- not what I was looking for- will not by again.  Looks nice, fits well and is comfortable. But very thin, see through thin, won't hold up in the wash thin.  Cheap material. Does not look like the picture at all.  Way to small Barely fit for the size I asked for. Not really a good jacket and quality sucks.  Is not the same color , material and color doesn't looks like the picture  This is the worst thing I've ever bought online!!! It's super thin where you can see though it and it was very stretched out of shape.\n"
     ]
    }
   ],
   "source": [
    "B_Reviews=\" \"\n",
    "for a in range(len(Bad_Reviews)):\n",
    "    B_Reviews=B_Reviews + Bad_Reviews.iloc[a]\n",
    "\n",
    "print(B_Reviews)"
   ]
  },
  {
   "cell_type": "code",
   "execution_count": 46,
   "id": "ef2801e0",
   "metadata": {},
   "outputs": [],
   "source": [
    "B_text_tokens = word_tokenize(B_Reviews)"
   ]
  },
  {
   "cell_type": "code",
   "execution_count": 48,
   "id": "ccc54151",
   "metadata": {},
   "outputs": [],
   "source": [
    "B_tokens_without_sw = [word for word in B_text_tokens if not word in stopwords.words()]"
   ]
  },
  {
   "cell_type": "code",
   "execution_count": 49,
   "id": "0d445c64",
   "metadata": {},
   "outputs": [],
   "source": [
    "counter2=Counter(B_tokens_without_sw)"
   ]
  },
  {
   "cell_type": "code",
   "execution_count": 50,
   "id": "f267b11a",
   "metadata": {},
   "outputs": [
    {
     "name": "stdout",
     "output_type": "stream",
     "text": [
      "[('.', 177), ('I', 83), (',', 69), ('’', 33), ('shirt', 32), ('thin', 32), ('!', 28), ('size', 25), ('material', 24), ('The', 24), ('fit', 23), ('like', 23), ('small', 22), ('It', 21), ('color', 18), ('This', 16), ('quality', 16), ('ordered', 14), ('see', 14), ('cheap', 13), ('XL', 13), ('Not', 13), ('picture', 11), ('product', 11), ('look', 11), (\"'s\", 11), ('sizes', 10), (\"n't\", 10), ('fits', 10), ('buy', 9), ('would', 9), ('fabric', 9), ('medium', 8), ('way', 8), ('made', 8), ('nice', 8), ('..', 8), ('poor', 8), ('good', 7), ('got', 7), ('hoodie', 7), ('sleeve', 6), ('looks', 6), ('bought', 6), ('order', 6), ('wear', 6), ('sure', 6), ('cut', 6), ('short', 5), ('back', 5), ('get', 5), ('white', 5), ('time', 5), ('little', 5), ('(', 5), (')', 5), ('2', 5), ('even', 5), ('money', 5), ('Was', 5), ('long', 5), ('well', 5), ('tight', 5), ('item', 5), ('large', 4), ('3XL', 4), (\"'m\", 4), ('right', 4), ('front', 4), ('usually', 4), ('true', 4), ('3x', 4), ('Shirt', 4), ('Very', 4), ('received', 4), ('2x', 4), ('Thin', 4), ('shown', 4), ('husband', 4), ('could', 4), ('...', 4), ('purchased', 3), ('black', 3), ('loved', 3), ('So', 3), ('Chinese', 3), ('sizing', 3), ('light', 3), ('run', 3), ('runs', 3), ('chart', 3), ('NOT', 3), ('better', 3), ('waste', 3), ('Way', 3), ('bottom', 3), ('bad', 3), ('cheaply', 3), ('Fabric', 3), ('normally', 3)]\n"
     ]
    }
   ],
   "source": [
    "print(counter2.most_common(100))"
   ]
  },
  {
   "cell_type": "code",
   "execution_count": null,
   "id": "9f4dc27f",
   "metadata": {},
   "outputs": [],
   "source": []
  }
 ],
 "metadata": {
  "kernelspec": {
   "display_name": "Python 3",
   "language": "python",
   "name": "python3"
  },
  "language_info": {
   "codemirror_mode": {
    "name": "ipython",
    "version": 3
   },
   "file_extension": ".py",
   "mimetype": "text/x-python",
   "name": "python",
   "nbconvert_exporter": "python",
   "pygments_lexer": "ipython3",
   "version": "3.8.8"
  }
 },
 "nbformat": 4,
 "nbformat_minor": 5
}
